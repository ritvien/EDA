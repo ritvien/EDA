{
 "cells": [
  {
   "cell_type": "markdown",
   "id": "7abc3ead",
   "metadata": {},
   "source": [
    " ## Tổng quan:\n",
    " một thư viện quan trọng trong ngôn ngữ lập trình Python, được sử dụng chủ yếu trong các phép tính khoa học và tính toán số học. NumPy cung cấp một cấu trúc dữ liệu mảng đa chiều (n-dimensional array) mạnh mẽ, cho phép thực hiện các phép toán số học, đại số tuyến tính, thống kê và xử lý mảng dữ liệu một cách hiệu quả."
   ]
  },
  {
   "cell_type": "markdown",
   "id": "a79f05c2",
   "metadata": {},
   "source": [
    "## tại sao tính toán trong numpy lại nhanh hơn python cơ bản?\n",
    "* Sử dụng mảng đa chiều để lưu trữ dữ liệu\n",
    "* Phép toán được thực hiện trên toàn bộ mảng một lần, tránh sd vòng lặp for\n",
    "* Viết bằng C hoặc Fortran : hiệu suất cao hơn Python\n",
    "* Tối ưu hóa độ lệch bộ  nhớ đếm (cache)\n",
    "* Broadcasting"
   ]
  },
  {
   "cell_type": "markdown",
   "id": "008e6bf9",
   "metadata": {},
   "source": [
    "# Numpy"
   ]
  },
  {
   "cell_type": "code",
   "execution_count": 2,
   "id": "27ec3023",
   "metadata": {},
   "outputs": [],
   "source": [
    "import numpy as np"
   ]
  },
  {
   "cell_type": "markdown",
   "id": "dd6f142a",
   "metadata": {},
   "source": [
    "### Shape"
   ]
  },
  {
   "cell_type": "markdown",
   "id": "27f867a3",
   "metadata": {},
   "source": [
    "#### shape có thể là nhiều chiều 2 3 4: 2 mtr 3x4"
   ]
  },
  {
   "cell_type": "markdown",
   "id": "740e8e0c",
   "metadata": {},
   "source": [
    "## Creating Numpy Arrays"
   ]
  },
  {
   "cell_type": "code",
   "execution_count": 7,
   "id": "a336a597",
   "metadata": {},
   "outputs": [
    {
     "data": {
      "text/plain": [
       "array([1, 2, 3, 4])"
      ]
     },
     "execution_count": 7,
     "metadata": {},
     "output_type": "execute_result"
    }
   ],
   "source": [
    "a1 = np.array([1,2,3,4])\n",
    "a1"
   ]
  },
  {
   "cell_type": "code",
   "execution_count": 8,
   "id": "95c77422",
   "metadata": {},
   "outputs": [
    {
     "data": {
      "text/plain": [
       "array([[3.14, 1.  , 2.  ],\n",
       "       [4.  , 5.  , 6.  ]])"
      ]
     },
     "execution_count": 8,
     "metadata": {},
     "output_type": "execute_result"
    }
   ],
   "source": [
    "a2 = np.array([[3.14,1,2],\n",
    "             [4,5,6]])\n",
    "a2"
   ]
  },
  {
   "cell_type": "markdown",
   "id": "abd91bb8",
   "metadata": {},
   "source": [
    "##### chuyển về 1 kiểu dữ liệu lớn hơn\n"
   ]
  },
  {
   "cell_type": "code",
   "execution_count": 5,
   "id": "618ed165",
   "metadata": {},
   "outputs": [
    {
     "data": {
      "text/plain": [
       "array([1., 2., 3., 4.], dtype=float32)"
      ]
     },
     "execution_count": 5,
     "metadata": {},
     "output_type": "execute_result"
    }
   ],
   "source": [
    "#cụ thể hóa kiểu dl\n",
    "np.array([1,2,3,4],dtype = 'float32')"
   ]
  },
  {
   "cell_type": "code",
   "execution_count": 9,
   "id": "480ff884",
   "metadata": {},
   "outputs": [
    {
     "data": {
      "text/plain": [
       "numpy.ndarray"
      ]
     },
     "execution_count": 9,
     "metadata": {},
     "output_type": "execute_result"
    }
   ],
   "source": [
    "type(a1)\n",
    "type(a2)"
   ]
  },
  {
   "cell_type": "code",
   "execution_count": 12,
   "id": "d9ae6efd",
   "metadata": {},
   "outputs": [
    {
     "data": {
      "text/plain": [
       "(2, 3)"
      ]
     },
     "execution_count": 12,
     "metadata": {},
     "output_type": "execute_result"
    }
   ],
   "source": [
    "a2.shape"
   ]
  },
  {
   "cell_type": "code",
   "execution_count": 13,
   "id": "ff5d4a32",
   "metadata": {},
   "outputs": [
    {
     "data": {
      "text/plain": [
       "2"
      ]
     },
     "execution_count": 13,
     "metadata": {},
     "output_type": "execute_result"
    }
   ],
   "source": [
    "a2.ndim"
   ]
  },
  {
   "cell_type": "code",
   "execution_count": 14,
   "id": "6585ac05",
   "metadata": {},
   "outputs": [
    {
     "data": {
      "text/plain": [
       "dtype('float64')"
      ]
     },
     "execution_count": 14,
     "metadata": {},
     "output_type": "execute_result"
    }
   ],
   "source": [
    "# kiểu dl thành phần bên trong\n",
    "a2.dtype "
   ]
  },
  {
   "cell_type": "code",
   "execution_count": 15,
   "id": "551cc3bb",
   "metadata": {},
   "outputs": [
    {
     "data": {
      "text/plain": [
       "6"
      ]
     },
     "execution_count": 15,
     "metadata": {},
     "output_type": "execute_result"
    }
   ],
   "source": [
    "# tổng số phần tử\n",
    "a2.size"
   ]
  },
  {
   "cell_type": "markdown",
   "id": "1080e2c9",
   "metadata": {},
   "source": [
    "## Creating from Scratch"
   ]
  },
  {
   "cell_type": "code",
   "execution_count": 1,
   "id": "f7866acc",
   "metadata": {
    "ExecuteTime": {
     "end_time": "2023-08-31T03:15:24.738511Z",
     "start_time": "2023-08-31T03:15:24.719510Z"
    }
   },
   "outputs": [
    {
     "data": {
      "text/plain": [
       "array([[0., 0., 0., 0.],\n",
       "       [0., 0., 0., 0.]])"
      ]
     },
     "execution_count": 1,
     "metadata": {},
     "output_type": "execute_result"
    }
   ],
   "source": [
    "# zeros \n",
    "y =  np.zeros([2,4])\n",
    "y"
   ]
  },
  {
   "cell_type": "code",
   "execution_count": 17,
   "id": "2a31bd6b",
   "metadata": {},
   "outputs": [
    {
     "data": {
      "text/plain": [
       "array([['1', '1', '1', '1'],\n",
       "       ['1', '1', '1', '1'],\n",
       "       ['1', '1', '1', '1']], dtype='<U1')"
      ]
     },
     "execution_count": 17,
     "metadata": {},
     "output_type": "execute_result"
    }
   ],
   "source": [
    "# ones\n",
    "np.ones([3,4], dtype = str)"
   ]
  },
  {
   "cell_type": "code",
   "execution_count": 18,
   "id": "a6f6edfd",
   "metadata": {},
   "outputs": [
    {
     "data": {
      "text/plain": [
       "array([ 0,  2,  4,  6,  8, 10, 12, 14, 16, 18])"
      ]
     },
     "execution_count": 18,
     "metadata": {},
     "output_type": "execute_result"
    }
   ],
   "source": [
    "#ARANGE\n",
    "np.arange(0,20,2)"
   ]
  },
  {
   "cell_type": "code",
   "execution_count": 19,
   "id": "9aac367d",
   "metadata": {},
   "outputs": [
    {
     "data": {
      "text/plain": [
       "array([[11, 11, 11, 11, 11],\n",
       "       [11, 11, 11, 11, 11],\n",
       "       [11, 11, 11, 11, 11]])"
      ]
     },
     "execution_count": 19,
     "metadata": {},
     "output_type": "execute_result"
    }
   ],
   "source": [
    "#Full\n",
    "np.full((3,5), 11)"
   ]
  },
  {
   "cell_type": "code",
   "execution_count": 6,
   "id": "8fc276b0",
   "metadata": {
    "ExecuteTime": {
     "end_time": "2023-08-21T07:16:02.759621Z",
     "start_time": "2023-08-21T07:16:02.741620Z"
    }
   },
   "outputs": [
    {
     "data": {
      "text/plain": [
       "array([ 5.        ,  5.40816327,  5.81632653,  6.2244898 ,  6.63265306,\n",
       "        7.04081633,  7.44897959,  7.85714286,  8.26530612,  8.67346939,\n",
       "        9.08163265,  9.48979592,  9.89795918, 10.30612245, 10.71428571,\n",
       "       11.12244898, 11.53061224, 11.93877551, 12.34693878, 12.75510204,\n",
       "       13.16326531, 13.57142857, 13.97959184, 14.3877551 , 14.79591837,\n",
       "       15.20408163, 15.6122449 , 16.02040816, 16.42857143, 16.83673469,\n",
       "       17.24489796, 17.65306122, 18.06122449, 18.46938776, 18.87755102,\n",
       "       19.28571429, 19.69387755, 20.10204082, 20.51020408, 20.91836735,\n",
       "       21.32653061, 21.73469388, 22.14285714, 22.55102041, 22.95918367,\n",
       "       23.36734694, 23.7755102 , 24.18367347, 24.59183673, 25.        ])"
      ]
     },
     "execution_count": 6,
     "metadata": {},
     "output_type": "execute_result"
    }
   ],
   "source": [
    "#linspace\n",
    "np.linspace(5,25)"
   ]
  },
  {
   "cell_type": "code",
   "execution_count": 98,
   "id": "3092a20e",
   "metadata": {},
   "outputs": [
    {
     "data": {
      "text/plain": [
       "array([[1., 0., 0., 0.],\n",
       "       [0., 1., 0., 0.],\n",
       "       [0., 0., 1., 0.],\n",
       "       [0., 0., 0., 1.]])"
      ]
     },
     "execution_count": 98,
     "metadata": {},
     "output_type": "execute_result"
    }
   ],
   "source": [
    "#IDENTITY : ma trận đơn vị\n",
    "np.identity(4)"
   ]
  },
  {
   "cell_type": "code",
   "execution_count": 99,
   "id": "5c15e3fd",
   "metadata": {},
   "outputs": [
    {
     "data": {
      "text/plain": [
       "array([[0., 0., 1., 0., 0.],\n",
       "       [0., 0., 0., 1., 0.],\n",
       "       [0., 0., 0., 0., 1.],\n",
       "       [0., 0., 0., 0., 0.],\n",
       "       [0., 0., 0., 0., 0.]])"
      ]
     },
     "execution_count": 99,
     "metadata": {},
     "output_type": "execute_result"
    }
   ],
   "source": [
    "#EYE : tạo ma trận đơn vị không nhất thiết đg chéo chính\n",
    "#.eye(kích thước hàng mtđv,kích thước cột mtđv(mặc định là kt hàng),vị trí bắt đầu của đg chéo = 1)\n",
    "np.eye(5, k = 2)"
   ]
  },
  {
   "cell_type": "markdown",
   "id": "ed0b52aa",
   "metadata": {},
   "source": [
    "### Random"
   ]
  },
  {
   "cell_type": "code",
   "execution_count": 6,
   "id": "215f7b96",
   "metadata": {},
   "outputs": [
    {
     "data": {
      "text/plain": [
       "array([[0.88601409, 0.73743577, 0.18180228, 0.13938099],\n",
       "       [0.94569498, 0.35265358, 0.03846134, 0.99841852],\n",
       "       [0.57819383, 0.26018961, 0.31653502, 0.91687636],\n",
       "       [0.66945656, 0.90917819, 0.87889189, 0.17854273]])"
      ]
     },
     "execution_count": 6,
     "metadata": {},
     "output_type": "execute_result"
    }
   ],
   "source": [
    "# trả về số ngẫu nhiên từ phân phối đề trên khoảng [0;1)\n",
    "np.random.random((4,4))"
   ]
  },
  {
   "cell_type": "code",
   "execution_count": 8,
   "id": "3ace24a7",
   "metadata": {
    "ExecuteTime": {
     "end_time": "2023-08-21T07:18:38.144036Z",
     "start_time": "2023-08-21T07:18:38.121976Z"
    }
   },
   "outputs": [
    {
     "data": {
      "text/plain": [
       "array([[0.5488135 , 0.71518937, 0.60276338, 0.54488318],\n",
       "       [0.4236548 , 0.64589411, 0.43758721, 0.891773  ],\n",
       "       [0.96366276, 0.38344152, 0.79172504, 0.52889492],\n",
       "       [0.56804456, 0.92559664, 0.07103606, 0.0871293 ]])"
      ]
     },
     "execution_count": 8,
     "metadata": {},
     "output_type": "execute_result"
    }
   ],
   "source": [
    "# Seed : random giống nhau\n",
    "np.random.seed(0)\n",
    "np.random.random((4,4))\n"
   ]
  },
  {
   "cell_type": "code",
   "execution_count": null,
   "id": "cef0078e",
   "metadata": {},
   "outputs": [],
   "source": []
  },
  {
   "cell_type": "code",
   "execution_count": 9,
   "id": "faf65311",
   "metadata": {},
   "outputs": [
    {
     "data": {
      "text/plain": [
       "array([[0.07403232, 0.74489355, 0.02728798, 0.35102223],\n",
       "       [0.06496242, 0.05003045, 0.8318439 , 0.40387889],\n",
       "       [0.45807054, 0.68437329, 0.58583341, 0.69533364],\n",
       "       [0.77673882, 0.74468966, 0.91197149, 0.64606559]])"
      ]
     },
     "execution_count": 9,
     "metadata": {},
     "output_type": "execute_result"
    }
   ],
   "source": [
    "# Cũng trả về giá trị ngẫu nhiên từ phân phối đề [0;1) từ shape được chỉ định\n",
    "np.random.rand(4,4)"
   ]
  },
  {
   "cell_type": "code",
   "execution_count": 23,
   "id": "c3cc9203",
   "metadata": {},
   "outputs": [
    {
     "data": {
      "text/plain": [
       "array([[ 0.44386323,  0.33367433,  1.49407907],\n",
       "       [-0.20515826,  0.3130677 , -0.85409574],\n",
       "       [-2.55298982,  0.6536186 ,  0.8644362 ]])"
      ]
     },
     "execution_count": 23,
     "metadata": {},
     "output_type": "execute_result"
    }
   ],
   "source": [
    "# Tạo ra các số ngẫu nhiên từ phân phối chuẩn có trung bình (mean) và độ lệch chuẩn(standard deviation) được chỉ định\n",
    "np.random.normal(0,1,(3,3))"
   ]
  },
  {
   "cell_type": "code",
   "execution_count": 24,
   "id": "b5920461",
   "metadata": {},
   "outputs": [
    {
     "data": {
      "text/plain": [
       "array([[55, 28, 34,  0,  0],\n",
       "       [36, 53,  5, 38, 17],\n",
       "       [79,  4, 42, 58, 31],\n",
       "       [ 1, 65, 41, 57, 35],\n",
       "       [11, 46, 82, 91,  0]])"
      ]
     },
     "execution_count": 24,
     "metadata": {},
     "output_type": "execute_result"
    }
   ],
   "source": [
    "#random những số int trong khoảng(không bao gồm số high)\n",
    "np.random.randint(0,100,(5,5))"
   ]
  },
  {
   "cell_type": "markdown",
   "id": "6dc05242",
   "metadata": {},
   "source": [
    "## Array Indexing & Slicing\n",
    "### 1-d subarray"
   ]
  },
  {
   "cell_type": "code",
   "execution_count": 28,
   "id": "b317952a",
   "metadata": {},
   "outputs": [
    {
     "data": {
      "text/plain": [
       "array([10, 13, 16,  7,  9,  0])"
      ]
     },
     "execution_count": 28,
     "metadata": {},
     "output_type": "execute_result"
    }
   ],
   "source": [
    "x1 = np.random.randint(20,size = 6)\n",
    "x1"
   ]
  },
  {
   "cell_type": "code",
   "execution_count": 30,
   "id": "8f770200",
   "metadata": {},
   "outputs": [
    {
     "data": {
      "text/plain": [
       "(13, 0)"
      ]
     },
     "execution_count": 30,
     "metadata": {},
     "output_type": "execute_result"
    }
   ],
   "source": [
    "x1[1],x1[-1]"
   ]
  },
  {
   "cell_type": "markdown",
   "id": "14ecf316",
   "metadata": {},
   "source": [
    "### multi-d"
   ]
  },
  {
   "cell_type": "code",
   "execution_count": 9,
   "id": "604c4881",
   "metadata": {
    "ExecuteTime": {
     "end_time": "2023-08-21T07:23:27.735303Z",
     "start_time": "2023-08-21T07:23:27.710953Z"
    }
   },
   "outputs": [
    {
     "data": {
      "text/plain": [
       "array([[3, 0, 3, 5],\n",
       "       [0, 2, 3, 8],\n",
       "       [1, 3, 3, 3]])"
      ]
     },
     "execution_count": 9,
     "metadata": {},
     "output_type": "execute_result"
    }
   ],
   "source": [
    "x2 = np.random.randint(10,size = (3,4))\n",
    "x2"
   ]
  },
  {
   "cell_type": "code",
   "execution_count": 32,
   "id": "61cc241d",
   "metadata": {},
   "outputs": [
    {
     "data": {
      "text/plain": [
       "1"
      ]
     },
     "execution_count": 32,
     "metadata": {},
     "output_type": "execute_result"
    }
   ],
   "source": [
    "x2[2][2]"
   ]
  },
  {
   "cell_type": "code",
   "execution_count": 33,
   "id": "df1382e6",
   "metadata": {},
   "outputs": [
    {
     "data": {
      "text/plain": [
       "array([[ 2,  7,  2,  9],\n",
       "       [ 2,  3,  3,  2],\n",
       "       [ 3,  4, 11,  2]])"
      ]
     },
     "execution_count": 33,
     "metadata": {},
     "output_type": "execute_result"
    }
   ],
   "source": [
    "x2[2,2] = 11\n",
    "x2"
   ]
  },
  {
   "cell_type": "markdown",
   "id": "e1b2fe8d",
   "metadata": {},
   "source": [
    "## Slicing\n",
    "### x[start:stop:step]"
   ]
  },
  {
   "cell_type": "code",
   "execution_count": 34,
   "id": "6a6bc001",
   "metadata": {},
   "outputs": [
    {
     "data": {
      "text/plain": [
       "array([10, 13, 16,  7,  9,  0])"
      ]
     },
     "execution_count": 34,
     "metadata": {},
     "output_type": "execute_result"
    }
   ],
   "source": [
    "x1"
   ]
  },
  {
   "cell_type": "code",
   "execution_count": 35,
   "id": "1f2ccabe",
   "metadata": {},
   "outputs": [
    {
     "data": {
      "text/plain": [
       "array([10, 13, 16])"
      ]
     },
     "execution_count": 35,
     "metadata": {},
     "output_type": "execute_result"
    }
   ],
   "source": [
    "x1[0:3]"
   ]
  },
  {
   "cell_type": "code",
   "execution_count": 37,
   "id": "9fc97698",
   "metadata": {},
   "outputs": [
    {
     "data": {
      "text/plain": [
       "array([10, 16,  9])"
      ]
     },
     "execution_count": 37,
     "metadata": {},
     "output_type": "execute_result"
    }
   ],
   "source": [
    "#step = 2\n",
    "x1[::2]"
   ]
  },
  {
   "cell_type": "code",
   "execution_count": 10,
   "id": "856b313a",
   "metadata": {
    "ExecuteTime": {
     "end_time": "2023-08-21T07:23:39.018119Z",
     "start_time": "2023-08-21T07:23:39.000373Z"
    }
   },
   "outputs": [
    {
     "data": {
      "text/plain": [
       "array([[3, 0, 3],\n",
       "       [0, 2, 3]])"
      ]
     },
     "execution_count": 10,
     "metadata": {},
     "output_type": "execute_result"
    }
   ],
   "source": [
    "# hàng. cột\n",
    "x2[:2,:3]"
   ]
  },
  {
   "cell_type": "code",
   "execution_count": 12,
   "id": "815bc34f",
   "metadata": {
    "ExecuteTime": {
     "end_time": "2023-08-21T07:23:58.804894Z",
     "start_time": "2023-08-21T07:23:58.785508Z"
    }
   },
   "outputs": [
    {
     "data": {
      "text/plain": [
       "array([[3, 0, 3, 5],\n",
       "       [0, 2, 3, 8],\n",
       "       [1, 3, 3, 3]])"
      ]
     },
     "execution_count": 12,
     "metadata": {},
     "output_type": "execute_result"
    }
   ],
   "source": [
    "x2"
   ]
  },
  {
   "cell_type": "code",
   "execution_count": 11,
   "id": "2ad6f55f",
   "metadata": {
    "ExecuteTime": {
     "end_time": "2023-08-21T07:23:49.456845Z",
     "start_time": "2023-08-21T07:23:49.440845Z"
    }
   },
   "outputs": [
    {
     "data": {
      "text/plain": [
       "array([[3, 0, 3],\n",
       "       [0, 2, 3],\n",
       "       [1, 3, 3]])"
      ]
     },
     "execution_count": 11,
     "metadata": {},
     "output_type": "execute_result"
    }
   ],
   "source": [
    "x2[:,:3]"
   ]
  },
  {
   "cell_type": "markdown",
   "id": "9a2e95c9",
   "metadata": {},
   "source": [
    "## Reshaping of Array & Transpose"
   ]
  },
  {
   "cell_type": "code",
   "execution_count": 13,
   "id": "51e539a0",
   "metadata": {
    "ExecuteTime": {
     "end_time": "2023-08-21T07:25:41.790197Z",
     "start_time": "2023-08-21T07:25:41.772186Z"
    }
   },
   "outputs": [
    {
     "data": {
      "text/plain": [
       "array([1, 2, 3, 4, 5, 6, 7, 8, 9])"
      ]
     },
     "execution_count": 13,
     "metadata": {},
     "output_type": "execute_result"
    }
   ],
   "source": [
    "grid = np.arange(1,10)\n",
    "grid\n"
   ]
  },
  {
   "cell_type": "code",
   "execution_count": 16,
   "id": "814a5477",
   "metadata": {
    "ExecuteTime": {
     "end_time": "2023-08-21T07:25:59.471651Z",
     "start_time": "2023-08-21T07:25:59.451625Z"
    }
   },
   "outputs": [
    {
     "data": {
      "text/plain": [
       "array([[1, 2, 3],\n",
       "       [4, 5, 6],\n",
       "       [7, 8, 9]])"
      ]
     },
     "execution_count": 16,
     "metadata": {},
     "output_type": "execute_result"
    }
   ],
   "source": [
    "grid =  grid.reshape((3,3))\n",
    "grid"
   ]
  },
  {
   "cell_type": "code",
   "execution_count": 46,
   "id": "97de2e5e",
   "metadata": {},
   "outputs": [],
   "source": [
    "x = np.array([1,2,3])"
   ]
  },
  {
   "cell_type": "code",
   "execution_count": 47,
   "id": "cdc07507",
   "metadata": {},
   "outputs": [
    {
     "data": {
      "text/plain": [
       "array([[1],\n",
       "       [2],\n",
       "       [3]])"
      ]
     },
     "execution_count": 47,
     "metadata": {},
     "output_type": "execute_result"
    }
   ],
   "source": [
    "x.reshape((3,1))"
   ]
  },
  {
   "cell_type": "code",
   "execution_count": 48,
   "id": "00c48bc3",
   "metadata": {},
   "outputs": [
    {
     "data": {
      "text/plain": [
       "array([1, 2, 3])"
      ]
     },
     "execution_count": 48,
     "metadata": {},
     "output_type": "execute_result"
    }
   ],
   "source": [
    "#transpose: chuyển vị\n",
    "x = np.transpose(x)\n",
    "x"
   ]
  },
  {
   "cell_type": "code",
   "execution_count": 56,
   "id": "c7981b12",
   "metadata": {},
   "outputs": [
    {
     "data": {
      "text/plain": [
       "array([1, 2, 3, 4, 5, 6, 7, 8, 9])"
      ]
     },
     "execution_count": 56,
     "metadata": {},
     "output_type": "execute_result"
    }
   ],
   "source": [
    "# flatten: chuyển thành vecto 1 chiều\n",
    "g1 = grid.flatten()\n",
    "g1"
   ]
  },
  {
   "cell_type": "code",
   "execution_count": 14,
   "id": "28ab9e68",
   "metadata": {},
   "outputs": [
    {
     "data": {
      "text/plain": [
       "array([1, 4, 7, 2, 5, 8, 3, 6, 9])"
      ]
     },
     "execution_count": 14,
     "metadata": {},
     "output_type": "execute_result"
    }
   ],
   "source": [
    "g2 = grid.flatten(order = 'F')\n",
    "g2"
   ]
  },
  {
   "cell_type": "markdown",
   "id": "26104a49",
   "metadata": {},
   "source": [
    "## Array Concatenation and Splitting"
   ]
  },
  {
   "cell_type": "code",
   "execution_count": 16,
   "id": "5f1cbe26",
   "metadata": {},
   "outputs": [
    {
     "data": {
      "text/plain": [
       "array([[1, 2, 3],\n",
       "       [4, 5, 6],\n",
       "       [6, 5, 4],\n",
       "       [2, 3, 1]])"
      ]
     },
     "execution_count": 16,
     "metadata": {},
     "output_type": "execute_result"
    }
   ],
   "source": [
    "x = np.array([[1,2,3],\n",
    "            [4,5,6]])\n",
    "y = np.array([[6,5,4],\n",
    "             [2,3,1]])\n",
    "np.concatenate((x,y))"
   ]
  },
  {
   "cell_type": "code",
   "execution_count": 8,
   "id": "7f77349e",
   "metadata": {},
   "outputs": [
    {
     "data": {
      "text/plain": [
       "array([[1, 2, 3, 6, 5, 4],\n",
       "       [4, 5, 6, 2, 3, 1]])"
      ]
     },
     "execution_count": 8,
     "metadata": {},
     "output_type": "execute_result"
    }
   ],
   "source": [
    "np.concatenate((x,y),axis = 1)"
   ]
  },
  {
   "cell_type": "code",
   "execution_count": 18,
   "id": "d86df005",
   "metadata": {},
   "outputs": [
    {
     "data": {
      "text/plain": [
       "array([[1, 2, 3],\n",
       "       [9, 8, 7],\n",
       "       [6, 5, 4]])"
      ]
     },
     "execution_count": 18,
     "metadata": {},
     "output_type": "execute_result"
    }
   ],
   "source": [
    "#vstack : xếp theo chiều dọc\n",
    "x = np.array([1,2,3])\n",
    "grid = np.array([[9,8,7],\n",
    "                [6,5,4]])\n",
    "np.vstack((x,grid))"
   ]
  },
  {
   "cell_type": "code",
   "execution_count": 19,
   "id": "c527e4a8",
   "metadata": {},
   "outputs": [
    {
     "data": {
      "text/plain": [
       "array([[11,  9,  8,  7],\n",
       "       [66,  6,  5,  4]])"
      ]
     },
     "execution_count": 19,
     "metadata": {},
     "output_type": "execute_result"
    }
   ],
   "source": [
    "#hstack : xếp theo chiều ngang\n",
    "y = np.array([[11],\n",
    "             [66]])\n",
    "np.hstack((y,grid))"
   ]
  },
  {
   "cell_type": "markdown",
   "id": "7edc330d",
   "metadata": {},
   "source": [
    "## Splitting"
   ]
  },
  {
   "cell_type": "code",
   "execution_count": 26,
   "id": "6e277106",
   "metadata": {},
   "outputs": [
    {
     "data": {
      "text/plain": [
       "[array([1, 2]), array([3]), array([99]), array([69,  3,  2,  1])]"
      ]
     },
     "execution_count": 26,
     "metadata": {},
     "output_type": "execute_result"
    }
   ],
   "source": [
    "x = np.array([1,2,3,99,69,3,2,1])\n",
    "np.split(x,[2,3,4])\n",
    "# đếm lần lượt theo thứ tự"
   ]
  },
  {
   "cell_type": "markdown",
   "id": "f9b63f52",
   "metadata": {},
   "source": [
    "## Broadcasting and Vectorized operations"
   ]
  },
  {
   "cell_type": "code",
   "execution_count": 27,
   "id": "9334b94f",
   "metadata": {},
   "outputs": [],
   "source": [
    "a = np.arange(3)"
   ]
  },
  {
   "cell_type": "code",
   "execution_count": 28,
   "id": "25342e10",
   "metadata": {},
   "outputs": [
    {
     "data": {
      "text/plain": [
       "array([0, 1, 2])"
      ]
     },
     "execution_count": 28,
     "metadata": {},
     "output_type": "execute_result"
    }
   ],
   "source": [
    "a"
   ]
  },
  {
   "cell_type": "code",
   "execution_count": 29,
   "id": "477086f0",
   "metadata": {},
   "outputs": [
    {
     "data": {
      "text/plain": [
       "array([5, 6, 7])"
      ]
     },
     "execution_count": 29,
     "metadata": {},
     "output_type": "execute_result"
    }
   ],
   "source": [
    "a+5 #broadcasting"
   ]
  },
  {
   "cell_type": "code",
   "execution_count": 31,
   "id": "4adbbb1f",
   "metadata": {},
   "outputs": [
    {
     "data": {
      "text/plain": [
       "array([[1., 2., 3.],\n",
       "       [1., 2., 3.],\n",
       "       [1., 2., 3.]])"
      ]
     },
     "execution_count": 31,
     "metadata": {},
     "output_type": "execute_result"
    }
   ],
   "source": [
    "np.ones((3,3)) + np.arange(3)"
   ]
  },
  {
   "cell_type": "code",
   "execution_count": null,
   "id": "b8bb06bc",
   "metadata": {},
   "outputs": [],
   "source": []
  },
  {
   "cell_type": "code",
   "execution_count": 44,
   "id": "5062de76",
   "metadata": {},
   "outputs": [
    {
     "data": {
      "text/plain": [
       "array([[5, 6, 7],\n",
       "       [6, 7, 8],\n",
       "       [7, 8, 9]])"
      ]
     },
     "execution_count": 44,
     "metadata": {},
     "output_type": "execute_result"
    }
   ],
   "source": [
    "\n",
    "a = np.array([[1],\n",
    "              [2],\n",
    "              [3]])\n",
    "b = np.array([4,5,6])\n",
    "a+b"
   ]
  },
  {
   "cell_type": "code",
   "execution_count": 46,
   "id": "e13ea0f5",
   "metadata": {},
   "outputs": [
    {
     "data": {
      "text/plain": [
       "array([[ 2,  6],\n",
       "       [ 6, 12]])"
      ]
     },
     "execution_count": 46,
     "metadata": {},
     "output_type": "execute_result"
    }
   ],
   "source": [
    "#Nhân từng phần tử vị trí giống nhau\n",
    "x = np.array([[1,2],\n",
    "             [2,3]])\n",
    "y = np.array([[2,3],\n",
    "             [3,4]])\n",
    "x*y "
   ]
  },
  {
   "cell_type": "code",
   "execution_count": 47,
   "id": "021a0e39",
   "metadata": {},
   "outputs": [
    {
     "data": {
      "text/plain": [
       "array([[ 4,  5,  6],\n",
       "       [ 8, 10, 12],\n",
       "       [12, 15, 18]])"
      ]
     },
     "execution_count": 47,
     "metadata": {},
     "output_type": "execute_result"
    }
   ],
   "source": [
    "#broadcasting\n",
    "b*a"
   ]
  },
  {
   "cell_type": "markdown",
   "id": "4fe1097a",
   "metadata": {},
   "source": [
    "## Floor,Ceil,Rint: làm tròn số"
   ]
  },
  {
   "cell_type": "code",
   "execution_count": 100,
   "id": "0fe506b7",
   "metadata": {},
   "outputs": [
    {
     "data": {
      "text/plain": [
       "1.0"
      ]
     },
     "execution_count": 100,
     "metadata": {},
     "output_type": "execute_result"
    }
   ],
   "source": [
    "np.floor(1.5) #làm tròn xuống"
   ]
  },
  {
   "cell_type": "code",
   "execution_count": 101,
   "id": "76b1e021",
   "metadata": {},
   "outputs": [
    {
     "data": {
      "text/plain": [
       "2.0"
      ]
     },
     "execution_count": 101,
     "metadata": {},
     "output_type": "execute_result"
    }
   ],
   "source": [
    "np.ceil(1.5) #làm tròn lên"
   ]
  },
  {
   "cell_type": "code",
   "execution_count": 104,
   "id": "2c681ce1",
   "metadata": {},
   "outputs": [
    {
     "data": {
      "text/plain": [
       "2.0"
      ]
     },
     "execution_count": 104,
     "metadata": {},
     "output_type": "execute_result"
    }
   ],
   "source": [
    "np.rint(1.5) #làm tròn gần nhất"
   ]
  },
  {
   "cell_type": "markdown",
   "id": "ddefb42b",
   "metadata": {},
   "source": [
    "## Manipulating & Comparing "
   ]
  },
  {
   "cell_type": "markdown",
   "id": "2545c74c",
   "metadata": {},
   "source": [
    "### Aggregation: tập hợp"
   ]
  },
  {
   "cell_type": "code",
   "execution_count": 48,
   "id": "b4754cfb",
   "metadata": {},
   "outputs": [],
   "source": [
    "list_n = [1,2,3]\n",
    "ll = np.array([list_n])"
   ]
  },
  {
   "cell_type": "code",
   "execution_count": 105,
   "id": "3046568f",
   "metadata": {},
   "outputs": [
    {
     "name": "stdout",
     "output_type": "stream",
     "text": [
      "783 µs ± 2.67 µs per loop (mean ± std. dev. of 7 runs, 1,000 loops each)\n",
      "7.73 µs ± 28.3 ns per loop (mean ± std. dev. of 7 runs, 100,000 loops each)\n"
     ]
    }
   ],
   "source": [
    "#np.sum >>> sum() : tổng các phần tử trong mảng\n",
    "a = np.random.random(10000)\n",
    "%timeit sum(a)\n",
    "%timeit np.sum(a)"
   ]
  },
  {
   "cell_type": "code",
   "execution_count": 110,
   "id": "8b4ae35a",
   "metadata": {},
   "outputs": [
    {
     "data": {
      "text/plain": [
       "array([ 6, 15])"
      ]
     },
     "execution_count": 110,
     "metadata": {},
     "output_type": "execute_result"
    }
   ],
   "source": [
    "mat = np.array([[1,2,3],\n",
    "              [4,5,6]])\n",
    "np.sum(mat,axis = 1)"
   ]
  },
  {
   "cell_type": "code",
   "execution_count": 111,
   "id": "0fe1b3c0",
   "metadata": {},
   "outputs": [
    {
     "data": {
      "text/plain": [
       "array([5, 7, 9])"
      ]
     },
     "execution_count": 111,
     "metadata": {},
     "output_type": "execute_result"
    }
   ],
   "source": [
    "np.sum(mat,axis = 0)"
   ]
  },
  {
   "cell_type": "code",
   "execution_count": 53,
   "id": "3c99d627",
   "metadata": {},
   "outputs": [
    {
     "data": {
      "text/plain": [
       "0.4991622609581787"
      ]
     },
     "execution_count": 53,
     "metadata": {},
     "output_type": "execute_result"
    }
   ],
   "source": [
    "np.mean(a)"
   ]
  },
  {
   "cell_type": "code",
   "execution_count": 54,
   "id": "a0720dea",
   "metadata": {},
   "outputs": [
    {
     "data": {
      "text/plain": [
       "0.999981952435461"
      ]
     },
     "execution_count": 54,
     "metadata": {},
     "output_type": "execute_result"
    }
   ],
   "source": [
    "np.max(a)"
   ]
  },
  {
   "cell_type": "code",
   "execution_count": 106,
   "id": "35381084",
   "metadata": {},
   "outputs": [
    {
     "data": {
      "text/plain": [
       "6"
      ]
     },
     "execution_count": 106,
     "metadata": {},
     "output_type": "execute_result"
    }
   ],
   "source": [
    "np.prod(ll) #tích các phẩn tử trong mảng"
   ]
  },
  {
   "cell_type": "markdown",
   "id": "2570dba1",
   "metadata": {},
   "source": [
    "# STATISTICS : XSTK"
   ]
  },
  {
   "cell_type": "code",
   "execution_count": 55,
   "id": "eef8c425",
   "metadata": {},
   "outputs": [],
   "source": [
    "#standard deviation: độ lệch chuẩn: căn bậc 2 của \"phương sai\"\n",
    "# numpy.std(dự liệu)\n",
    "#variance : phương sai : mức độ biến đổi của một tập dữ liệu\n",
    "# numpy.var(dữ liệu)"
   ]
  },
  {
   "cell_type": "code",
   "execution_count": 56,
   "id": "417f1961",
   "metadata": {},
   "outputs": [
    {
     "data": {
      "text/plain": [
       "139.79985693841036"
      ]
     },
     "execution_count": 56,
     "metadata": {},
     "output_type": "execute_result"
    }
   ],
   "source": [
    "dog_height = [600,470,170,430,400]\n",
    "dog_height = np.array(dog_height)\n",
    "np.std(dog_height)"
   ]
  },
  {
   "cell_type": "code",
   "execution_count": 57,
   "id": "eb38f8da",
   "metadata": {},
   "outputs": [
    {
     "data": {
      "text/plain": [
       "19544.0"
      ]
     },
     "execution_count": 57,
     "metadata": {},
     "output_type": "execute_result"
    }
   ],
   "source": [
    "np.var(dog_height)"
   ]
  },
  {
   "cell_type": "markdown",
   "id": "5e0ee321",
   "metadata": {},
   "source": [
    "## Sorting Arrays\n",
    "#### np.sort()"
   ]
  },
  {
   "cell_type": "code",
   "execution_count": 58,
   "id": "50e520c7",
   "metadata": {},
   "outputs": [
    {
     "data": {
      "text/plain": [
       "array([1, 2, 3, 4, 5])"
      ]
     },
     "execution_count": 58,
     "metadata": {},
     "output_type": "execute_result"
    }
   ],
   "source": [
    "x = np.array([2,1,4,3,5])\n",
    "np.sort(x)"
   ]
  },
  {
   "cell_type": "code",
   "execution_count": 59,
   "id": "42ace39e",
   "metadata": {},
   "outputs": [
    {
     "data": {
      "text/plain": [
       "array([1, 0, 3, 2, 4], dtype=int64)"
      ]
     },
     "execution_count": 59,
     "metadata": {},
     "output_type": "execute_result"
    }
   ],
   "source": [
    "np.argsort(x)"
   ]
  },
  {
   "cell_type": "code",
   "execution_count": 60,
   "id": "06238c11",
   "metadata": {},
   "outputs": [
    {
     "data": {
      "text/plain": [
       "array([[6, 3, 7, 4, 6, 9],\n",
       "       [2, 6, 7, 4, 3, 7],\n",
       "       [7, 2, 5, 4, 1, 7],\n",
       "       [5, 1, 4, 0, 9, 5]])"
      ]
     },
     "execution_count": 60,
     "metadata": {},
     "output_type": "execute_result"
    }
   ],
   "source": [
    "#đa chiều theo rows hoặc columns\n",
    "np.random.seed(42)\n",
    "mata = np.random.randint(0,10,size=(4,6))\n",
    "mata"
   ]
  },
  {
   "cell_type": "code",
   "execution_count": 61,
   "id": "7ce4b9af",
   "metadata": {},
   "outputs": [
    {
     "data": {
      "text/plain": [
       "array([[2, 1, 4, 0, 1, 5],\n",
       "       [5, 2, 5, 4, 3, 7],\n",
       "       [6, 3, 7, 4, 6, 7],\n",
       "       [7, 6, 7, 4, 9, 9]])"
      ]
     },
     "execution_count": 61,
     "metadata": {},
     "output_type": "execute_result"
    }
   ],
   "source": [
    "np.sort(mata,axis = 0)"
   ]
  },
  {
   "cell_type": "code",
   "execution_count": 62,
   "id": "4da97d66",
   "metadata": {},
   "outputs": [
    {
     "data": {
      "text/plain": [
       "array([[3, 4, 6, 6, 7, 9],\n",
       "       [2, 3, 4, 6, 7, 7],\n",
       "       [1, 2, 4, 5, 7, 7],\n",
       "       [0, 1, 4, 5, 5, 9]])"
      ]
     },
     "execution_count": 62,
     "metadata": {},
     "output_type": "execute_result"
    }
   ],
   "source": [
    "np.sort(mata,axis = 1)"
   ]
  },
  {
   "cell_type": "markdown",
   "id": "8b63e4ea",
   "metadata": {},
   "source": [
    "# Linear Algebra"
   ]
  },
  {
   "cell_type": "code",
   "execution_count": 2,
   "id": "a760d2ec",
   "metadata": {
    "ExecuteTime": {
     "end_time": "2023-10-20T04:22:04.368982Z",
     "start_time": "2023-10-20T04:22:04.333643Z"
    }
   },
   "outputs": [
    {
     "data": {
      "text/plain": [
       "array([[14, 20],\n",
       "       [32, 47],\n",
       "       [44, 65]])"
      ]
     },
     "execution_count": 2,
     "metadata": {},
     "output_type": "execute_result"
    }
   ],
   "source": [
    "A = np.array([[1,2,3],\n",
    "             [4,5,6],\n",
    "             [6,7,8]])\n",
    "B = np.array([[1,2],\n",
    "            [2,3],\n",
    "            [3,4]])\n",
    "A.dot(B)\n",
    "#A.B"
   ]
  },
  {
   "cell_type": "code",
   "execution_count": 15,
   "id": "fdca9532",
   "metadata": {},
   "outputs": [
    {
     "data": {
      "text/plain": [
       "array([[ 1.7156570e+15, -4.2891425e+15,  2.5734855e+15],\n",
       "       [-3.4313140e+15,  8.5782850e+15, -5.1469710e+15],\n",
       "       [ 1.7156570e+15, -4.2891425e+15,  2.5734855e+15]])"
      ]
     },
     "execution_count": 15,
     "metadata": {},
     "output_type": "execute_result"
    }
   ],
   "source": [
    "#TÍNH MA TRẬN NGHỊCH ĐẢO CỦA MA TRẬN A\n",
    "np.linalg.inv(A)"
   ]
  },
  {
   "cell_type": "code",
   "execution_count": 18,
   "id": "c0bfab89",
   "metadata": {},
   "outputs": [
    {
     "data": {
      "text/plain": [
       "-1.1657341758564207e-15"
      ]
     },
     "execution_count": 18,
     "metadata": {},
     "output_type": "execute_result"
    }
   ],
   "source": [
    "#TÍNH ĐỊNH THỨC CỦA MA TRẬN A\n",
    "np.linalg.det(A)"
   ]
  },
  {
   "cell_type": "code",
   "execution_count": 19,
   "id": "d95f2155",
   "metadata": {},
   "outputs": [
    {
     "data": {
      "text/plain": [
       "array([[ 8.578285e+14,  8.578285e+14],\n",
       "       [-1.715657e+15, -1.715657e+15],\n",
       "       [ 8.578285e+14,  8.578285e+14]])"
      ]
     },
     "execution_count": 19,
     "metadata": {},
     "output_type": "execute_result"
    }
   ],
   "source": [
    "#GIẢI HỆ PHƯƠNG TRÌNH TUYẾN TÍNH AX = B TRONG ĐÓ A LÀ MA TRẬN HỆ SỐ VÀ B LÀ VECTO KẾT QUẢ\n",
    "np.linalg.solve(A,B)"
   ]
  },
  {
   "cell_type": "code",
   "execution_count": 22,
   "id": "22060053",
   "metadata": {},
   "outputs": [
    {
     "data": {
      "text/plain": [
       "(array([ 1.50000000e+01, -1.00000000e+00,  5.25462381e-16]),\n",
       " array([[ 2.49206599e-01,  8.32050294e-01,  4.08248290e-01],\n",
       "        [ 5.69615084e-01, -8.25882719e-16, -8.16496581e-01],\n",
       "        [ 7.83220740e-01, -5.54700196e-01,  4.08248290e-01]]))"
      ]
     },
     "execution_count": 22,
     "metadata": {},
     "output_type": "execute_result"
    }
   ],
   "source": [
    "#TÍNH TRỊ RIÊNG VÀ VECTO RIÊNG CỦA MA TRẬN A\n",
    "np.linalg.eig(A)"
   ]
  },
  {
   "cell_type": "code",
   "execution_count": 23,
   "id": "0e52667a",
   "metadata": {},
   "outputs": [
    {
     "data": {
      "text/plain": [
       "(array([[-0.23498172,  0.91625348,  0.32444284],\n",
       "        [-0.56747984,  0.14167532, -0.81110711],\n",
       "        [-0.78914525, -0.37471012,  0.48666426]]),\n",
       " array([1.54611193e+01, 9.76621976e-01, 9.43299524e-17]),\n",
       " array([[-0.46825669, -0.57119923, -0.67414176],\n",
       "        [-0.78362555, -0.08405223,  0.6155211 ],\n",
       "        [-0.40824829,  0.81649658, -0.40824829]]))"
      ]
     },
     "execution_count": 23,
     "metadata": {},
     "output_type": "execute_result"
    }
   ],
   "source": [
    "#PHÂN TÍCH GIÁ TRỊ ĐƠN PHÂN RÃ (SVD)\n",
    "np.linalg.svd(A)"
   ]
  },
  {
   "cell_type": "code",
   "execution_count": 28,
   "id": "cf17559a",
   "metadata": {},
   "outputs": [
    {
     "data": {
      "text/plain": [
       "(array([[-0.13736056,  0.93587869,  0.32444284],\n",
       "        [-0.54944226,  0.20054543, -0.81110711],\n",
       "        [-0.82416338, -0.28967674,  0.48666426]]),\n",
       " array([[-7.28010989e+00, -8.79107609e+00, -1.03020423e+01],\n",
       "        [ 0.00000000e+00,  8.46747384e-01,  1.69349477e+00],\n",
       "        [ 0.00000000e+00,  0.00000000e+00, -6.40115363e-16]]))"
      ]
     },
     "execution_count": 28,
     "metadata": {},
     "output_type": "execute_result"
    }
   ],
   "source": [
    "#PHÂN TÍCH QR decomposition của ma trận A\n",
    "np.linalg.qr(A)"
   ]
  },
  {
   "cell_type": "code",
   "execution_count": 29,
   "id": "f54fa50e",
   "metadata": {},
   "outputs": [
    {
     "data": {
      "text/plain": [
       "array([[-0.72807018, -0.09649123,  0.3245614 ],\n",
       "       [-0.07017544,  0.00877193,  0.06140351],\n",
       "       [ 0.5877193 ,  0.11403509, -0.20175439]])"
      ]
     },
     "execution_count": 29,
     "metadata": {},
     "output_type": "execute_result"
    }
   ],
   "source": [
    "#MA TRẬN NGHỊCH ĐẢO MOORE-PENROSE ( MA TRẬN TỐI THIỂU BÌNH PHƯƠNG)\n",
    "np.linalg.pinv(A)"
   ]
  },
  {
   "cell_type": "code",
   "execution_count": 30,
   "id": "eeb8ed45",
   "metadata": {},
   "outputs": [
    {
     "data": {
      "text/plain": [
       "2"
      ]
     },
     "execution_count": 30,
     "metadata": {},
     "output_type": "execute_result"
    }
   ],
   "source": [
    "#HẠNG CỦA MA TRẬN\n",
    "np.linalg.matrix_rank(A)"
   ]
  },
  {
   "cell_type": "code",
   "execution_count": 4,
   "id": "99e2f5c0",
   "metadata": {
    "ExecuteTime": {
     "end_time": "2023-08-21T06:57:10.582325Z",
     "start_time": "2023-08-21T06:57:10.562419Z"
    }
   },
   "outputs": [
    {
     "data": {
      "text/plain": [
       "array([[14, 20],\n",
       "       [32, 47],\n",
       "       [44, 65]])"
      ]
     },
     "execution_count": 4,
     "metadata": {},
     "output_type": "execute_result"
    }
   ],
   "source": [
    "#Phép nhân ma trận =.dot()\n",
    "A @ B"
   ]
  },
  {
   "cell_type": "code",
   "execution_count": 3,
   "id": "a6fc523b",
   "metadata": {
    "ExecuteTime": {
     "end_time": "2023-10-20T04:22:06.572448Z",
     "start_time": "2023-10-20T04:22:06.557409Z"
    }
   },
   "outputs": [
    {
     "data": {
      "text/plain": [
       "array([[1, 2, 3],\n",
       "       [2, 3, 4]])"
      ]
     },
     "execution_count": 3,
     "metadata": {},
     "output_type": "execute_result"
    }
   ],
   "source": [
    "#Transpose ma trận chuyển vị\n",
    "B.T"
   ]
  },
  {
   "cell_type": "code",
   "execution_count": 72,
   "id": "fa1c133a",
   "metadata": {},
   "outputs": [
    {
     "data": {
      "text/plain": [
       "array([[27, 33, 39],\n",
       "       [38, 47, 56]])"
      ]
     },
     "execution_count": 72,
     "metadata": {},
     "output_type": "execute_result"
    }
   ],
   "source": [
    "B.T@A"
   ]
  },
  {
   "cell_type": "markdown",
   "id": "bd9f9664",
   "metadata": {},
   "source": [
    "### Dot Product Example : tích vô hướng, còn với ma trận thì nhân ma trận\n"
   ]
  },
  {
   "cell_type": "code",
   "execution_count": null,
   "id": "67810ee9",
   "metadata": {},
   "outputs": [],
   "source": [
    "#number of jars sold\n",
    "np.random.seed(0)\n",
    "sales_amounts = np.random.randint(20,size=(5,3))"
   ]
  },
  {
   "cell_type": "code",
   "execution_count": 93,
   "id": "14212db7",
   "metadata": {},
   "outputs": [
    {
     "data": {
      "text/html": [
       "<div>\n",
       "<style scoped>\n",
       "    .dataframe tbody tr th:only-of-type {\n",
       "        vertical-align: middle;\n",
       "    }\n",
       "\n",
       "    .dataframe tbody tr th {\n",
       "        vertical-align: top;\n",
       "    }\n",
       "\n",
       "    .dataframe thead th {\n",
       "        text-align: right;\n",
       "    }\n",
       "</style>\n",
       "<table border=\"1\" class=\"dataframe\">\n",
       "  <thead>\n",
       "    <tr style=\"text-align: right;\">\n",
       "      <th></th>\n",
       "      <th>Almond Butter</th>\n",
       "      <th>Peanut Butter</th>\n",
       "      <th>Cashew Butter</th>\n",
       "    </tr>\n",
       "  </thead>\n",
       "  <tbody>\n",
       "    <tr>\n",
       "      <th>Mon</th>\n",
       "      <td>12</td>\n",
       "      <td>15</td>\n",
       "      <td>0</td>\n",
       "    </tr>\n",
       "    <tr>\n",
       "      <th>Tues</th>\n",
       "      <td>3</td>\n",
       "      <td>3</td>\n",
       "      <td>7</td>\n",
       "    </tr>\n",
       "    <tr>\n",
       "      <th>Wed</th>\n",
       "      <td>9</td>\n",
       "      <td>19</td>\n",
       "      <td>18</td>\n",
       "    </tr>\n",
       "    <tr>\n",
       "      <th>Thurs</th>\n",
       "      <td>4</td>\n",
       "      <td>6</td>\n",
       "      <td>12</td>\n",
       "    </tr>\n",
       "    <tr>\n",
       "      <th>Fri</th>\n",
       "      <td>1</td>\n",
       "      <td>6</td>\n",
       "      <td>7</td>\n",
       "    </tr>\n",
       "  </tbody>\n",
       "</table>\n",
       "</div>"
      ],
      "text/plain": [
       "       Almond Butter  Peanut Butter  Cashew Butter\n",
       "Mon               12             15              0\n",
       "Tues               3              3              7\n",
       "Wed                9             19             18\n",
       "Thurs              4              6             12\n",
       "Fri                1              6              7"
      ]
     },
     "execution_count": 93,
     "metadata": {},
     "output_type": "execute_result"
    }
   ],
   "source": [
    "#create weekly_sales Df\n",
    "import pandas as pd\n",
    "weekly_sales = pd.DataFrame(sales_amounts,index = [\"Mon\",\"Tues\",\"Wed\",\"Thurs\",\"Fri\"],columns = [\"Almond Butter\",\"Peanut Butter\",\"Cashew Butter\"])\n",
    "weekly_sales"
   ]
  },
  {
   "cell_type": "code",
   "execution_count": 94,
   "id": "0b8fd17d",
   "metadata": {},
   "outputs": [
    {
     "data": {
      "text/html": [
       "<div>\n",
       "<style scoped>\n",
       "    .dataframe tbody tr th:only-of-type {\n",
       "        vertical-align: middle;\n",
       "    }\n",
       "\n",
       "    .dataframe tbody tr th {\n",
       "        vertical-align: top;\n",
       "    }\n",
       "\n",
       "    .dataframe thead th {\n",
       "        text-align: right;\n",
       "    }\n",
       "</style>\n",
       "<table border=\"1\" class=\"dataframe\">\n",
       "  <thead>\n",
       "    <tr style=\"text-align: right;\">\n",
       "      <th></th>\n",
       "      <th>Almond Butter</th>\n",
       "      <th>Peanut Butter</th>\n",
       "      <th>Cashew Butter</th>\n",
       "    </tr>\n",
       "  </thead>\n",
       "  <tbody>\n",
       "    <tr>\n",
       "      <th>Price</th>\n",
       "      <td>10</td>\n",
       "      <td>8</td>\n",
       "      <td>12</td>\n",
       "    </tr>\n",
       "  </tbody>\n",
       "</table>\n",
       "</div>"
      ],
      "text/plain": [
       "       Almond Butter  Peanut Butter  Cashew Butter\n",
       "Price             10              8             12"
      ]
     },
     "execution_count": 94,
     "metadata": {},
     "output_type": "execute_result"
    }
   ],
   "source": [
    "# create a price array\n",
    "prices = np.array([[10,8,12]])\n",
    "butter_prices = pd.DataFrame(prices,index = [\"Price\"],columns=[\"Almond Butter\",\"Peanut Butter\",\"Cashew Butter\"])\n",
    "butter_prices"
   ]
  },
  {
   "cell_type": "code",
   "execution_count": 95,
   "id": "ec240be3",
   "metadata": {},
   "outputs": [
    {
     "data": {
      "text/plain": [
       "((5, 3), (1, 3))"
      ]
     },
     "execution_count": 95,
     "metadata": {},
     "output_type": "execute_result"
    }
   ],
   "source": [
    "weekly_sales.shape, butter_prices.shape"
   ]
  },
  {
   "cell_type": "code",
   "execution_count": 96,
   "id": "329112f0",
   "metadata": {},
   "outputs": [
    {
     "data": {
      "text/html": [
       "<div>\n",
       "<style scoped>\n",
       "    .dataframe tbody tr th:only-of-type {\n",
       "        vertical-align: middle;\n",
       "    }\n",
       "\n",
       "    .dataframe tbody tr th {\n",
       "        vertical-align: top;\n",
       "    }\n",
       "\n",
       "    .dataframe thead th {\n",
       "        text-align: right;\n",
       "    }\n",
       "</style>\n",
       "<table border=\"1\" class=\"dataframe\">\n",
       "  <thead>\n",
       "    <tr style=\"text-align: right;\">\n",
       "      <th></th>\n",
       "      <th>Price</th>\n",
       "    </tr>\n",
       "  </thead>\n",
       "  <tbody>\n",
       "    <tr>\n",
       "      <th>Mon</th>\n",
       "      <td>240</td>\n",
       "    </tr>\n",
       "    <tr>\n",
       "      <th>Tues</th>\n",
       "      <td>138</td>\n",
       "    </tr>\n",
       "    <tr>\n",
       "      <th>Wed</th>\n",
       "      <td>458</td>\n",
       "    </tr>\n",
       "    <tr>\n",
       "      <th>Thurs</th>\n",
       "      <td>232</td>\n",
       "    </tr>\n",
       "    <tr>\n",
       "      <th>Fri</th>\n",
       "      <td>142</td>\n",
       "    </tr>\n",
       "  </tbody>\n",
       "</table>\n",
       "</div>"
      ],
      "text/plain": [
       "       Price\n",
       "Mon      240\n",
       "Tues     138\n",
       "Wed      458\n",
       "Thurs    232\n",
       "Fri      142"
      ]
     },
     "execution_count": 96,
     "metadata": {},
     "output_type": "execute_result"
    }
   ],
   "source": [
    "total_prices = weekly_sales.dot(butter_prices.T)\n",
    "total_prices"
   ]
  },
  {
   "cell_type": "code",
   "execution_count": 97,
   "id": "ad9526c9",
   "metadata": {},
   "outputs": [
    {
     "data": {
      "text/html": [
       "<div>\n",
       "<style scoped>\n",
       "    .dataframe tbody tr th:only-of-type {\n",
       "        vertical-align: middle;\n",
       "    }\n",
       "\n",
       "    .dataframe tbody tr th {\n",
       "        vertical-align: top;\n",
       "    }\n",
       "\n",
       "    .dataframe thead th {\n",
       "        text-align: right;\n",
       "    }\n",
       "</style>\n",
       "<table border=\"1\" class=\"dataframe\">\n",
       "  <thead>\n",
       "    <tr style=\"text-align: right;\">\n",
       "      <th></th>\n",
       "      <th>Almond Butter</th>\n",
       "      <th>Peanut Butter</th>\n",
       "      <th>Cashew Butter</th>\n",
       "      <th>Total</th>\n",
       "    </tr>\n",
       "  </thead>\n",
       "  <tbody>\n",
       "    <tr>\n",
       "      <th>Mon</th>\n",
       "      <td>12</td>\n",
       "      <td>15</td>\n",
       "      <td>0</td>\n",
       "      <td>240</td>\n",
       "    </tr>\n",
       "    <tr>\n",
       "      <th>Tues</th>\n",
       "      <td>3</td>\n",
       "      <td>3</td>\n",
       "      <td>7</td>\n",
       "      <td>138</td>\n",
       "    </tr>\n",
       "    <tr>\n",
       "      <th>Wed</th>\n",
       "      <td>9</td>\n",
       "      <td>19</td>\n",
       "      <td>18</td>\n",
       "      <td>458</td>\n",
       "    </tr>\n",
       "    <tr>\n",
       "      <th>Thurs</th>\n",
       "      <td>4</td>\n",
       "      <td>6</td>\n",
       "      <td>12</td>\n",
       "      <td>232</td>\n",
       "    </tr>\n",
       "    <tr>\n",
       "      <th>Fri</th>\n",
       "      <td>1</td>\n",
       "      <td>6</td>\n",
       "      <td>7</td>\n",
       "      <td>142</td>\n",
       "    </tr>\n",
       "  </tbody>\n",
       "</table>\n",
       "</div>"
      ],
      "text/plain": [
       "       Almond Butter  Peanut Butter  Cashew Butter  Total\n",
       "Mon               12             15              0    240\n",
       "Tues               3              3              7    138\n",
       "Wed                9             19             18    458\n",
       "Thurs              4              6             12    232\n",
       "Fri                1              6              7    142"
      ]
     },
     "execution_count": 97,
     "metadata": {},
     "output_type": "execute_result"
    }
   ],
   "source": [
    "weekly_sales['Total'] = total_prices\n",
    "weekly_sales"
   ]
  },
  {
   "cell_type": "markdown",
   "id": "ae295ac9",
   "metadata": {},
   "source": [
    "### .Cross(mata,matb) : tích chéo 2 vecto 3 chiều (tích có hướng)"
   ]
  },
  {
   "cell_type": "markdown",
   "id": "5e70d8c2",
   "metadata": {},
   "source": [
    "## .inner(a,b) : tích nội: giống .dot() tích vô hướng 2 vecto 1 chiều nhưng k nhân đc ma trận\n",
    "## .outer(a,b) : tích ngoại: nhân mỗi phần tử trong a với từng phần tử trong b"
   ]
  },
  {
   "cell_type": "code",
   "execution_count": 3,
   "id": "c1413c66",
   "metadata": {},
   "outputs": [
    {
     "data": {
      "text/plain": [
       "array([[ 3,  4],\n",
       "       [ 6,  8],\n",
       "       [ 6,  8],\n",
       "       [12, 16]])"
      ]
     },
     "execution_count": 3,
     "metadata": {},
     "output_type": "execute_result"
    }
   ],
   "source": [
    "a = np.array([[1,2],\n",
    "               [2,4]])\n",
    "b = np.array([3,4])\n",
    "np.outer(a,b)"
   ]
  },
  {
   "cell_type": "markdown",
   "id": "2739fd83",
   "metadata": {},
   "source": [
    "# Tính đa thức ( Polynomial)"
   ]
  },
  {
   "cell_type": "code",
   "execution_count": 12,
   "id": "a2e918e6",
   "metadata": {},
   "outputs": [
    {
     "data": {
      "text/plain": [
       "array([4, 5, 6])"
      ]
     },
     "execution_count": 12,
     "metadata": {},
     "output_type": "execute_result"
    }
   ],
   "source": [
    "p = np.array([4,5,6]) #đa thức 4x^2 + 5x + 6"
   ]
  },
  {
   "cell_type": "code",
   "execution_count": 5,
   "id": "a6e6cee3",
   "metadata": {},
   "outputs": [
    {
     "data": {
      "text/plain": [
       "32"
      ]
     },
     "execution_count": 5,
     "metadata": {},
     "output_type": "execute_result"
    }
   ],
   "source": [
    "#TÍNH GIÁ TRỊ ĐA THỨC TẠI X\n",
    "np.polyval(p,2)"
   ]
  },
  {
   "cell_type": "code",
   "execution_count": 6,
   "id": "83111f0a",
   "metadata": {},
   "outputs": [
    {
     "data": {
      "text/plain": [
       "array([-0.625+1.05326872j, -0.625-1.05326872j])"
      ]
     },
     "execution_count": 6,
     "metadata": {},
     "output_type": "execute_result"
    }
   ],
   "source": [
    "#TÍNH NGHIỆM CỦA ĐA THỨC\n",
    "np.roots(p)"
   ]
  },
  {
   "cell_type": "code",
   "execution_count": 7,
   "id": "e66e5c11",
   "metadata": {},
   "outputs": [
    {
     "data": {
      "text/plain": [
       "array([8, 5])"
      ]
     },
     "execution_count": 7,
     "metadata": {},
     "output_type": "execute_result"
    }
   ],
   "source": [
    "#TÍNH ĐẠO HÀM CỦA ĐA THỨC P\n",
    "np.polyder(p)"
   ]
  },
  {
   "cell_type": "code",
   "execution_count": 8,
   "id": "bb82de58",
   "metadata": {},
   "outputs": [
    {
     "data": {
      "text/plain": [
       "array([1.33333333, 2.5       , 6.        , 0.        ])"
      ]
     },
     "execution_count": 8,
     "metadata": {},
     "output_type": "execute_result"
    }
   ],
   "source": [
    "#TÍNH NGUYÊN HÀM CỦA ĐA THỨC P\n",
    "np.polyint(p)\n"
   ]
  },
  {
   "cell_type": "code",
   "execution_count": 11,
   "id": "93514c45",
   "metadata": {},
   "outputs": [
    {
     "name": "stderr",
     "output_type": "stream",
     "text": [
      "C:\\Users\\Dell\\anaconda3\\Lib\\site-packages\\IPython\\core\\interactiveshell.py:3505: RankWarning: Polyfit may be poorly conditioned\n",
      "  exec(code_obj, self.user_global_ns, self.user_ns)\n"
     ]
    },
    {
     "data": {
      "text/plain": [
       "array([0.1, 0.7, 2.2])"
      ]
     },
     "execution_count": 11,
     "metadata": {},
     "output_type": "execute_result"
    }
   ],
   "source": [
    "#KHỚP ĐA THỨC\n",
    "x = np.array([1,2])\n",
    "y = np.array([3,4])\n",
    "np.polyfit(x,y,2)\n",
    "#0.1x^2 + 0.7x + 2.2 = y"
   ]
  },
  {
   "cell_type": "code",
   "execution_count": null,
   "id": "571c0d30",
   "metadata": {},
   "outputs": [],
   "source": []
  }
 ],
 "metadata": {
  "kernelspec": {
   "display_name": "Python 3 (ipykernel)",
   "language": "python",
   "name": "python3"
  },
  "language_info": {
   "codemirror_mode": {
    "name": "ipython",
    "version": 3
   },
   "file_extension": ".py",
   "mimetype": "text/x-python",
   "name": "python",
   "nbconvert_exporter": "python",
   "pygments_lexer": "ipython3",
   "version": "3.11.5"
  },
  "toc": {
   "base_numbering": 1,
   "nav_menu": {},
   "number_sections": true,
   "sideBar": true,
   "skip_h1_title": false,
   "title_cell": "Table of Contents",
   "title_sidebar": "Contents",
   "toc_cell": false,
   "toc_position": {},
   "toc_section_display": true,
   "toc_window_display": true
  },
  "varInspector": {
   "cols": {
    "lenName": 16,
    "lenType": 16,
    "lenVar": 40
   },
   "kernels_config": {
    "python": {
     "delete_cmd_postfix": "",
     "delete_cmd_prefix": "del ",
     "library": "var_list.py",
     "varRefreshCmd": "print(var_dic_list())"
    },
    "r": {
     "delete_cmd_postfix": ") ",
     "delete_cmd_prefix": "rm(",
     "library": "var_list.r",
     "varRefreshCmd": "cat(var_dic_list()) "
    }
   },
   "types_to_exclude": [
    "module",
    "function",
    "builtin_function_or_method",
    "instance",
    "_Feature"
   ],
   "window_display": false
  }
 },
 "nbformat": 4,
 "nbformat_minor": 5
}
